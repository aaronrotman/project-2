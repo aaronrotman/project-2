{
 "cells": [
  {
   "cell_type": "code",
   "execution_count": 18,
   "metadata": {},
   "outputs": [],
   "source": [
    "import pandas as pd\n",
    "from sqlalchemy import create_engine"
   ]
  },
  {
   "cell_type": "code",
   "execution_count": 19,
   "metadata": {},
   "outputs": [
    {
     "data": {
      "text/html": [
       "<div>\n",
       "<style scoped>\n",
       "    .dataframe tbody tr th:only-of-type {\n",
       "        vertical-align: middle;\n",
       "    }\n",
       "\n",
       "    .dataframe tbody tr th {\n",
       "        vertical-align: top;\n",
       "    }\n",
       "\n",
       "    .dataframe thead th {\n",
       "        text-align: right;\n",
       "    }\n",
       "</style>\n",
       "<table border=\"1\" class=\"dataframe\">\n",
       "  <thead>\n",
       "    <tr style=\"text-align: right;\">\n",
       "      <th></th>\n",
       "      <th>id</th>\n",
       "      <th>name</th>\n",
       "      <th>brewery_type</th>\n",
       "      <th>street</th>\n",
       "      <th>city</th>\n",
       "      <th>state</th>\n",
       "      <th>postal_code</th>\n",
       "      <th>website_url</th>\n",
       "      <th>phone</th>\n",
       "      <th>created_at</th>\n",
       "      <th>updated_at</th>\n",
       "      <th>country</th>\n",
       "      <th>longitude</th>\n",
       "      <th>latitude</th>\n",
       "      <th>tags</th>\n",
       "    </tr>\n",
       "  </thead>\n",
       "  <tbody>\n",
       "    <tr>\n",
       "      <th>0</th>\n",
       "      <td>siluria-brewing-company</td>\n",
       "      <td>Siluria Brewing Company</td>\n",
       "      <td>planning</td>\n",
       "      <td>NaN</td>\n",
       "      <td>Alabaster</td>\n",
       "      <td>Alabama</td>\n",
       "      <td>35007-8501</td>\n",
       "      <td>http://www.siluriabrewing.com</td>\n",
       "      <td>2.054828e+09</td>\n",
       "      <td>32:47.7</td>\n",
       "      <td>20:27.0</td>\n",
       "      <td>United States</td>\n",
       "      <td>-86.816377</td>\n",
       "      <td>33.244281</td>\n",
       "      <td>NaN</td>\n",
       "    </tr>\n",
       "    <tr>\n",
       "      <th>1</th>\n",
       "      <td>cheaha-brewing-co</td>\n",
       "      <td>Cheaha Brewing Co</td>\n",
       "      <td>brewpub</td>\n",
       "      <td>1208 Walnut Ave</td>\n",
       "      <td>Anniston</td>\n",
       "      <td>Alabama</td>\n",
       "      <td>36201-4526</td>\n",
       "      <td>http://www.cheahabrewingcompany.com</td>\n",
       "      <td>2.567707e+09</td>\n",
       "      <td>32:47.4</td>\n",
       "      <td>20:08.8</td>\n",
       "      <td>United States</td>\n",
       "      <td>-85.833774</td>\n",
       "      <td>33.660167</td>\n",
       "      <td>NaN</td>\n",
       "    </tr>\n",
       "  </tbody>\n",
       "</table>\n",
       "</div>"
      ],
      "text/plain": [
       "                        id                     name brewery_type  \\\n",
       "0  siluria-brewing-company  Siluria Brewing Company     planning   \n",
       "1        cheaha-brewing-co        Cheaha Brewing Co      brewpub   \n",
       "\n",
       "            street       city    state postal_code  \\\n",
       "0              NaN  Alabaster  Alabama  35007-8501   \n",
       "1  1208 Walnut Ave   Anniston  Alabama  36201-4526   \n",
       "\n",
       "                           website_url         phone created_at updated_at  \\\n",
       "0        http://www.siluriabrewing.com  2.054828e+09    32:47.7    20:27.0   \n",
       "1  http://www.cheahabrewingcompany.com  2.567707e+09    32:47.4    20:08.8   \n",
       "\n",
       "         country  longitude   latitude  tags  \n",
       "0  United States -86.816377  33.244281   NaN  \n",
       "1  United States -85.833774  33.660167   NaN  "
      ]
     },
     "execution_count": 19,
     "metadata": {},
     "output_type": "execute_result"
    }
   ],
   "source": [
    "csv_file = \"breweries.csv\"\n",
    "breweries_data_df = pd.read_csv(csv_file)\n",
    "breweries_data_df.head(2)"
   ]
  },
  {
   "cell_type": "markdown",
   "metadata": {},
   "source": [
    "# filter columns"
   ]
  },
  {
   "cell_type": "code",
   "execution_count": 24,
   "metadata": {},
   "outputs": [],
   "source": [
    "conn = \"postgres:postgres@localhost:5432/breweries_db\"\n",
    "engine = create_engine(f'postgresql://{conn}')"
   ]
  },
  {
   "cell_type": "code",
   "execution_count": 25,
   "metadata": {},
   "outputs": [
    {
     "data": {
      "text/plain": [
       "[]"
      ]
     },
     "execution_count": 25,
     "metadata": {},
     "output_type": "execute_result"
    }
   ],
   "source": [
    "engine.table_names()\n"
   ]
  },
  {
   "cell_type": "code",
   "execution_count": 9,
   "metadata": {},
   "outputs": [],
   "source": [
    "breweries_data_df.to_sql(name='breweries',con=engine,if_exists='append',index=False)"
   ]
  },
  {
   "cell_type": "code",
   "execution_count": null,
   "metadata": {},
   "outputs": [],
   "source": []
  },
  {
   "cell_type": "code",
   "execution_count": null,
   "metadata": {},
   "outputs": [],
   "source": []
  }
 ],
 "metadata": {
  "kernelspec": {
   "display_name": "Python 3",
   "language": "python",
   "name": "python3"
  },
  "language_info": {
   "codemirror_mode": {
    "name": "ipython",
    "version": 3
   },
   "file_extension": ".py",
   "mimetype": "text/x-python",
   "name": "python",
   "nbconvert_exporter": "python",
   "pygments_lexer": "ipython3",
   "version": "3.6.10"
  }
 },
 "nbformat": 4,
 "nbformat_minor": 4
}
